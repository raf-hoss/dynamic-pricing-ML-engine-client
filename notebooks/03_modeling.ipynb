{
 "cells": [
  {
   "cell_type": "code",
   "execution_count": null,
   "id": "c949711f",
   "metadata": {},
   "outputs": [],
   "source": [
    "from src.models.train_model import train_lightgbm_regressor\n",
    "from src.data.load_data import load_data_pandas\n",
    "from src.data.preprocess import preprocess_pandas\n",
    "from src.features.build_features import build_features\n",
    "import matplotlib.pyplot as plt\n",
    "\n",
    "_, sales_df = load_data_pandas()\n",
    "clean_df = preprocess_pandas(sales_df)\n",
    "featured_df = build_features(clean_df)\n",
    "\n",
    "features = [\n",
    "    \"price\", \"promo_discount\", \"competitor_price\", \"temperature\",\n",
    "    \"price_margin\", \"price_vs_competitor\",\n",
    "    \"lag_1\", \"rolling_mean_7\", \"elasticity\",\n",
    "    \"day_of_week\", \"is_weekend\", \"month\"\n",
    "]\n",
    "\n",
    "model, X_test, y_test, preds = train_lightgbm_regressor(\n",
    "    featured_df, features, \"units_sold\"\n",
    ")\n",
    "\n",
    "# Plot actual vs predicted\n",
    "plt.scatter(y_test, preds, alpha=0.3)\n",
    "plt.xlabel(\"Actual\")\n",
    "plt.ylabel(\"Predicted\")\n",
    "plt.title(\"Forecasting: Actual vs Predicted Units Sold\")"
   ]
  }
 ],
 "metadata": {
  "language_info": {
   "name": "python"
  }
 },
 "nbformat": 4,
 "nbformat_minor": 5
}
