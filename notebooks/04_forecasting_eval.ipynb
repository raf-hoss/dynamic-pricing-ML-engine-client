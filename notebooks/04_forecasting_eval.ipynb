{
 "cells": [
  {
   "cell_type": "code",
   "execution_count": null,
   "id": "d0e55bd7",
   "metadata": {},
   "outputs": [],
   "source": [
    "import pandas as pd\n",
    "from src.monitoring.post_deploy_monitor import simulate_post_deploy_data, run_monitoring\n",
    "from src.data.load_data import load_data_pandas\n",
    "from src.data.preprocess import preprocess_pandas\n",
    "from src.features.build_features import build_features\n",
    "from src.forecasting.forecaster import train_forecast_model\n",
    "\n",
    "_, sales_df = load_data_pandas()\n",
    "clean_df = preprocess_pandas(sales_df)\n",
    "featured_df = build_features(clean_df)\n",
    "_, pred_df = train_forecast_model(featured_df)\n",
    "\n",
    "post_df = simulate_post_deploy_data(pred_df)\n",
    "results = run_monitoring(pred_df, post_df)\n",
    "\n",
    "# Plot the output for monitoring\n",
    "results.plot()"
   ]
  }
 ],
 "metadata": {
  "language_info": {
   "name": "python"
  }
 },
 "nbformat": 4,
 "nbformat_minor": 5
}
