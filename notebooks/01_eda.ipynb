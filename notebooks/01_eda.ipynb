{
 "cells": [
  {
   "cell_type": "code",
   "execution_count": null,
   "id": "15388933",
   "metadata": {},
   "outputs": [],
   "source": [
    "import pandas as pd\n",
    "import matplotlib.pyplot as plt\n",
    "import seaborn as sns\n",
    "\n",
    "sales = pd.read_csv(\"../data/raw/sales_data.csv\", parse_dates=[\"date\"])\n",
    "catalog = pd.read_csv(\"../data/raw/product_catalog.csv\")\n",
    "\n",
    "# Basic stats\n",
    "print(sales.describe())\n",
    "print(sales[\"category\"].value_counts())\n",
    "\n",
    "# Time-series trend\n",
    "daily_sales = sales.groupby(\"date\")[\"units_sold\"].sum()\n",
    "daily_sales.plot(figsize=(12,4), title=\"Total Units Sold Over Time\")\n",
    "\n",
    "# Promotions effect\n",
    "sns.boxplot(x=sales[\"promo_discount\"], y=sales[\"units_sold\"])\n",
    "\n",
    "# Correlation heatmap\n",
    "sns.heatmap(sales.corr(numeric_only=True), annot=True, cmap=\"coolwarm\")"
   ]
  }
 ],
 "metadata": {
  "kernelspec": {
   "display_name": "base",
   "language": "python",
   "name": "python3"
  },
  "language_info": {
   "name": "python",
   "version": "3.12.4"
  }
 },
 "nbformat": 4,
 "nbformat_minor": 5
}
