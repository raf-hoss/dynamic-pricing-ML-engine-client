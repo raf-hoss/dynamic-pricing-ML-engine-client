{
 "cells": [
  {
   "cell_type": "code",
   "execution_count": null,
   "id": "f72a28c6",
   "metadata": {},
   "outputs": [],
   "source": [
    "from src.data.load_data import load_data_pandas\n",
    "from src.data.preprocess import preprocess_pandas\n",
    "from src.features.build_features import build_features\n",
    "\n",
    "_, sales_df = load_data_pandas()\n",
    "clean_df = preprocess_pandas(sales_df)\n",
    "featured_df = build_features(clean_df)\n",
    "\n",
    "# Sample features\n",
    "featured_df[[\"lag_1\", \"rolling_mean_7\", \"elasticity\"]].hist(figsize=(10,5))\n",
    "\n",
    "# Sample SKU view\n",
    "sku_sample = featured_df[featured_df[\"sku_id\"] == \"WM001\"]\n",
    "sku_sample.plot(x=\"date\", y=[\"units_sold\", \"rolling_mean_7\"])"
   ]
  }
 ],
 "metadata": {
  "language_info": {
   "name": "python"
  }
 },
 "nbformat": 4,
 "nbformat_minor": 5
}
